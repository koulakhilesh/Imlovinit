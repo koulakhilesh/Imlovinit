{
 "cells": [
  {
   "cell_type": "code",
   "execution_count": 1,
   "id": "d88e4d2f",
   "metadata": {},
   "outputs": [],
   "source": [
    "from scripts.imvoronoit import imvoronoit\n",
    "from data.db_description import getDatabase\n",
    "from IPython.display import display\n",
    "import ipywidgets as widgets\n",
    "from ipywidgets import interact, interactive, fixed, interact_manual"
   ]
  },
  {
   "cell_type": "code",
   "execution_count": 2,
   "id": "3a24a3b5",
   "metadata": {},
   "outputs": [
    {
     "name": "stdout",
     "output_type": "stream",
     "text": [
      "Choose from below mentioned chains\n",
      "MCD : List of MCD outlets in Singapore\n",
      "LIBRARY : List of Library location in Singapore\n",
      "MUSEUMS : List of Museums location in Singapore\n",
      "E_WASTE : List of E-waste recycling near you\n",
      "WIRELESS_HS : List of Wireless@SG hotspots in Singapore\n",
      "WASTE_TREATMENT : Location of Toxic Industrial Wastes Treatment and Disposal Facilities\n",
      "MONUMENTS : List of locations of monuments in Singapore\n",
      "HISTORIC_SITES : List of locations of Historic Sites in Singapore\n",
      "HERITAGE_TREES : List of locations of Heritage trees Sites in Singapore\n",
      "HAWKER_CENTRE : List of locations of Hawker Center in Singapore\n",
      "DSA : List of locations of Designated Smoking Areas (DSA)\n",
      "CFT : List of locations of Cash For Trash stations near you\n"
     ]
    }
   ],
   "source": [
    "_,chainDB=getDatabase()\n",
    "#print(\"\\n\".join([item['Name'] for item in chainDB]))\n",
    "print('Choose from below mentioned chains')\n",
    "for i in range(len(chainDB)):\n",
    "    print(chainDB[i]['Name']+str(' : ')+chainDB[i]['Description'])"
   ]
  },
  {
   "cell_type": "code",
   "execution_count": 3,
   "id": "59b7faca",
   "metadata": {},
   "outputs": [],
   "source": [
    "def chain_func(x):\n",
    "    print(str(x))\n",
    "    print('Wait for computation to get completed')\n",
    "    imvoronoit_class=imvoronoit(chain=str(x),notebook=True)\n",
    "    imvoronoit_class.drawVoronoi()\n",
    "   \n",
    "chain_widget = widgets.Dropdown(\n",
    "    options=['MCD','LIBRARY','MUSEUMS','E_WASTE','WIRELESS_HS', 'WASTE_TREATMENT', 'MONUMENTS', 'HISTORIC_SITES', 'HERITAGE_TREES', 'HAWKER_CENTRE','DSA', 'CFT'],\n",
    "    value='MUSEUMS',\n",
    "    description='Chain:',\n",
    "    disabled=False,\n",
    ")"
   ]
  },
  {
   "cell_type": "code",
   "execution_count": 4,
   "id": "d42c5ce2",
   "metadata": {},
   "outputs": [
    {
     "data": {
      "application/vnd.jupyter.widget-view+json": {
       "model_id": "1791fa1fe83f4b9aa60a6dc7623993b9",
       "version_major": 2,
       "version_minor": 0
      },
      "text/plain": [
       "interactive(children=(Dropdown(description='Chain:', index=2, options=('MCD', 'LIBRARY', 'MUSEUMS', 'E_WASTE',…"
      ]
     },
     "metadata": {},
     "output_type": "display_data"
    },
    {
     "data": {
      "text/plain": [
       "<function __main__.chain_func(x)>"
      ]
     },
     "execution_count": 4,
     "metadata": {},
     "output_type": "execute_result"
    }
   ],
   "source": [
    "interact(chain_func,x=chain_widget)"
   ]
  },
  {
   "cell_type": "code",
   "execution_count": 5,
   "id": "6f1bfadd",
   "metadata": {},
   "outputs": [],
   "source": [
    "def address_func(x,y):\n",
    "    print(str(x))\n",
    "    print(str(y))\n",
    "    print('Wait for computation to get completed')\n",
    "    imvoronoit_class=imvoronoit(chain=str(x),notebook=True)\n",
    "    nearbyDF=imvoronoit_class.getNearby(address=str(y) , distance=0.03)\n",
    "    nearbyDF.head()\n",
    "   \n",
    "address_widget = widgets.Text(value='Bukit Timah', disabled=False,description='Address:')"
   ]
  },
  {
   "cell_type": "code",
   "execution_count": 6,
   "id": "1f42f43a",
   "metadata": {
    "scrolled": true
   },
   "outputs": [
    {
     "data": {
      "application/vnd.jupyter.widget-view+json": {
       "model_id": "6587d5d03b084a399bcf49cff0130fe9",
       "version_major": 2,
       "version_minor": 0
      },
      "text/plain": [
       "interactive(children=(Dropdown(description='Chain:', index=2, options=('MCD', 'LIBRARY', 'MUSEUMS', 'E_WASTE',…"
      ]
     },
     "metadata": {},
     "output_type": "display_data"
    },
    {
     "data": {
      "text/plain": [
       "<function __main__.address_func(x, y)>"
      ]
     },
     "execution_count": 6,
     "metadata": {},
     "output_type": "execute_result"
    }
   ],
   "source": [
    "interact(address_func,x=chain_widget,y=address_widget)"
   ]
  },
  {
   "cell_type": "code",
   "execution_count": null,
   "id": "309a3d70",
   "metadata": {},
   "outputs": [],
   "source": []
  },
  {
   "cell_type": "code",
   "execution_count": null,
   "id": "a0dece37",
   "metadata": {},
   "outputs": [],
   "source": []
  }
 ],
 "metadata": {
  "kernelspec": {
   "display_name": "Python 3 (ipykernel)",
   "language": "python",
   "name": "python3"
  },
  "language_info": {
   "codemirror_mode": {
    "name": "ipython",
    "version": 3
   },
   "file_extension": ".py",
   "mimetype": "text/x-python",
   "name": "python",
   "nbconvert_exporter": "python",
   "pygments_lexer": "ipython3",
   "version": "3.9.7"
  }
 },
 "nbformat": 4,
 "nbformat_minor": 5
}
